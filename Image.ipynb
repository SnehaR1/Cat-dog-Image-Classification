{
 "cells": [
  {
   "cell_type": "code",
   "execution_count": 1,
   "id": "766a8d79-44c5-43dd-a6ad-f06bb647c447",
   "metadata": {},
   "outputs": [
    {
     "name": "stdout",
     "output_type": "stream",
     "text": [
      "Requirement already satisfied: tensorflow in c:\\users\\rasaa\\downloads\\archive (51)\\image\\lib\\site-packages (2.11.0)\n",
      "Requirement already satisfied: tensorflow-intel==2.11.0 in c:\\users\\rasaa\\downloads\\archive (51)\\image\\lib\\site-packages (from tensorflow) (2.11.0)\n",
      "Requirement already satisfied: six>=1.12.0 in c:\\users\\rasaa\\downloads\\archive (51)\\image\\lib\\site-packages (from tensorflow-intel==2.11.0->tensorflow) (1.16.0)\n",
      "Requirement already satisfied: grpcio<2.0,>=1.24.3 in c:\\users\\rasaa\\downloads\\archive (51)\\image\\lib\\site-packages (from tensorflow-intel==2.11.0->tensorflow) (1.51.1)\n",
      "Requirement already satisfied: packaging in c:\\users\\rasaa\\downloads\\archive (51)\\image\\lib\\site-packages (from tensorflow-intel==2.11.0->tensorflow) (23.0)\n",
      "Requirement already satisfied: tensorflow-io-gcs-filesystem>=0.23.1 in c:\\users\\rasaa\\downloads\\archive (51)\\image\\lib\\site-packages (from tensorflow-intel==2.11.0->tensorflow) (0.30.0)\n",
      "Requirement already satisfied: protobuf<3.20,>=3.9.2 in c:\\users\\rasaa\\downloads\\archive (51)\\image\\lib\\site-packages (from tensorflow-intel==2.11.0->tensorflow) (3.19.6)\n",
      "Requirement already satisfied: tensorboard<2.12,>=2.11 in c:\\users\\rasaa\\downloads\\archive (51)\\image\\lib\\site-packages (from tensorflow-intel==2.11.0->tensorflow) (2.11.2)\n",
      "Requirement already satisfied: opt-einsum>=2.3.2 in c:\\users\\rasaa\\downloads\\archive (51)\\image\\lib\\site-packages (from tensorflow-intel==2.11.0->tensorflow) (3.3.0)\n",
      "Requirement already satisfied: termcolor>=1.1.0 in c:\\users\\rasaa\\downloads\\archive (51)\\image\\lib\\site-packages (from tensorflow-intel==2.11.0->tensorflow) (2.2.0)\n",
      "Requirement already satisfied: h5py>=2.9.0 in c:\\users\\rasaa\\downloads\\archive (51)\\image\\lib\\site-packages (from tensorflow-intel==2.11.0->tensorflow) (3.8.0)\n",
      "Requirement already satisfied: astunparse>=1.6.0 in c:\\users\\rasaa\\downloads\\archive (51)\\image\\lib\\site-packages (from tensorflow-intel==2.11.0->tensorflow) (1.6.3)\n",
      "Requirement already satisfied: libclang>=13.0.0 in c:\\users\\rasaa\\downloads\\archive (51)\\image\\lib\\site-packages (from tensorflow-intel==2.11.0->tensorflow) (15.0.6.1)\n",
      "Requirement already satisfied: absl-py>=1.0.0 in c:\\users\\rasaa\\downloads\\archive (51)\\image\\lib\\site-packages (from tensorflow-intel==2.11.0->tensorflow) (1.4.0)\n",
      "Requirement already satisfied: wrapt>=1.11.0 in c:\\users\\rasaa\\downloads\\archive (51)\\image\\lib\\site-packages (from tensorflow-intel==2.11.0->tensorflow) (1.14.1)\n",
      "Requirement already satisfied: gast<=0.4.0,>=0.2.1 in c:\\users\\rasaa\\downloads\\archive (51)\\image\\lib\\site-packages (from tensorflow-intel==2.11.0->tensorflow) (0.4.0)\n",
      "Requirement already satisfied: numpy>=1.20 in c:\\users\\rasaa\\downloads\\archive (51)\\image\\lib\\site-packages (from tensorflow-intel==2.11.0->tensorflow) (1.24.1)\n",
      "Requirement already satisfied: keras<2.12,>=2.11.0 in c:\\users\\rasaa\\downloads\\archive (51)\\image\\lib\\site-packages (from tensorflow-intel==2.11.0->tensorflow) (2.11.0)\n",
      "Requirement already satisfied: google-pasta>=0.1.1 in c:\\users\\rasaa\\downloads\\archive (51)\\image\\lib\\site-packages (from tensorflow-intel==2.11.0->tensorflow) (0.2.0)\n",
      "Requirement already satisfied: setuptools in c:\\users\\rasaa\\downloads\\archive (51)\\image\\lib\\site-packages (from tensorflow-intel==2.11.0->tensorflow) (58.1.0)\n",
      "Requirement already satisfied: tensorflow-estimator<2.12,>=2.11.0 in c:\\users\\rasaa\\downloads\\archive (51)\\image\\lib\\site-packages (from tensorflow-intel==2.11.0->tensorflow) (2.11.0)\n",
      "Requirement already satisfied: flatbuffers>=2.0 in c:\\users\\rasaa\\downloads\\archive (51)\\image\\lib\\site-packages (from tensorflow-intel==2.11.0->tensorflow) (23.1.21)\n",
      "Requirement already satisfied: typing-extensions>=3.6.6 in c:\\users\\rasaa\\downloads\\archive (51)\\image\\lib\\site-packages (from tensorflow-intel==2.11.0->tensorflow) (4.4.0)\n",
      "Requirement already satisfied: wheel<1.0,>=0.23.0 in c:\\users\\rasaa\\downloads\\archive (51)\\image\\lib\\site-packages (from astunparse>=1.6.0->tensorflow-intel==2.11.0->tensorflow) (0.38.4)\n",
      "Requirement already satisfied: tensorboard-data-server<0.7.0,>=0.6.0 in c:\\users\\rasaa\\downloads\\archive (51)\\image\\lib\\site-packages (from tensorboard<2.12,>=2.11->tensorflow-intel==2.11.0->tensorflow) (0.6.1)\n",
      "Requirement already satisfied: google-auth<3,>=1.6.3 in c:\\users\\rasaa\\downloads\\archive (51)\\image\\lib\\site-packages (from tensorboard<2.12,>=2.11->tensorflow-intel==2.11.0->tensorflow) (2.16.0)\n",
      "Requirement already satisfied: tensorboard-plugin-wit>=1.6.0 in c:\\users\\rasaa\\downloads\\archive (51)\\image\\lib\\site-packages (from tensorboard<2.12,>=2.11->tensorflow-intel==2.11.0->tensorflow) (1.8.1)\n",
      "Requirement already satisfied: markdown>=2.6.8 in c:\\users\\rasaa\\downloads\\archive (51)\\image\\lib\\site-packages (from tensorboard<2.12,>=2.11->tensorflow-intel==2.11.0->tensorflow) (3.4.1)\n",
      "Requirement already satisfied: requests<3,>=2.21.0 in c:\\users\\rasaa\\downloads\\archive (51)\\image\\lib\\site-packages (from tensorboard<2.12,>=2.11->tensorflow-intel==2.11.0->tensorflow) (2.28.2)\n",
      "Requirement already satisfied: werkzeug>=1.0.1 in c:\\users\\rasaa\\downloads\\archive (51)\\image\\lib\\site-packages (from tensorboard<2.12,>=2.11->tensorflow-intel==2.11.0->tensorflow) (2.2.2)\n",
      "Requirement already satisfied: google-auth-oauthlib<0.5,>=0.4.1 in c:\\users\\rasaa\\downloads\\archive (51)\\image\\lib\\site-packages (from tensorboard<2.12,>=2.11->tensorflow-intel==2.11.0->tensorflow) (0.4.6)\n",
      "Requirement already satisfied: rsa<5,>=3.1.4 in c:\\users\\rasaa\\downloads\\archive (51)\\image\\lib\\site-packages (from google-auth<3,>=1.6.3->tensorboard<2.12,>=2.11->tensorflow-intel==2.11.0->tensorflow) (4.9)\n",
      "Requirement already satisfied: cachetools<6.0,>=2.0.0 in c:\\users\\rasaa\\downloads\\archive (51)\\image\\lib\\site-packages (from google-auth<3,>=1.6.3->tensorboard<2.12,>=2.11->tensorflow-intel==2.11.0->tensorflow) (5.3.0)\n",
      "Requirement already satisfied: pyasn1-modules>=0.2.1 in c:\\users\\rasaa\\downloads\\archive (51)\\image\\lib\\site-packages (from google-auth<3,>=1.6.3->tensorboard<2.12,>=2.11->tensorflow-intel==2.11.0->tensorflow) (0.2.8)\n",
      "Requirement already satisfied: requests-oauthlib>=0.7.0 in c:\\users\\rasaa\\downloads\\archive (51)\\image\\lib\\site-packages (from google-auth-oauthlib<0.5,>=0.4.1->tensorboard<2.12,>=2.11->tensorflow-intel==2.11.0->tensorflow) (1.3.1)\n",
      "Requirement already satisfied: importlib-metadata>=4.4 in c:\\users\\rasaa\\downloads\\archive (51)\\image\\lib\\site-packages (from markdown>=2.6.8->tensorboard<2.12,>=2.11->tensorflow-intel==2.11.0->tensorflow) (6.0.0)\n",
      "Requirement already satisfied: certifi>=2017.4.17 in c:\\users\\rasaa\\downloads\\archive (51)\\image\\lib\\site-packages (from requests<3,>=2.21.0->tensorboard<2.12,>=2.11->tensorflow-intel==2.11.0->tensorflow) (2022.12.7)\n",
      "Requirement already satisfied: urllib3<1.27,>=1.21.1 in c:\\users\\rasaa\\downloads\\archive (51)\\image\\lib\\site-packages (from requests<3,>=2.21.0->tensorboard<2.12,>=2.11->tensorflow-intel==2.11.0->tensorflow) (1.26.14)\n",
      "Requirement already satisfied: charset-normalizer<4,>=2 in c:\\users\\rasaa\\downloads\\archive (51)\\image\\lib\\site-packages (from requests<3,>=2.21.0->tensorboard<2.12,>=2.11->tensorflow-intel==2.11.0->tensorflow) (3.0.1)\n",
      "Requirement already satisfied: idna<4,>=2.5 in c:\\users\\rasaa\\downloads\\archive (51)\\image\\lib\\site-packages (from requests<3,>=2.21.0->tensorboard<2.12,>=2.11->tensorflow-intel==2.11.0->tensorflow) (3.4)\n",
      "Requirement already satisfied: MarkupSafe>=2.1.1 in c:\\users\\rasaa\\downloads\\archive (51)\\image\\lib\\site-packages (from werkzeug>=1.0.1->tensorboard<2.12,>=2.11->tensorflow-intel==2.11.0->tensorflow) (2.1.2)\n",
      "Requirement already satisfied: zipp>=0.5 in c:\\users\\rasaa\\downloads\\archive (51)\\image\\lib\\site-packages (from importlib-metadata>=4.4->markdown>=2.6.8->tensorboard<2.12,>=2.11->tensorflow-intel==2.11.0->tensorflow) (3.12.0)\n",
      "Requirement already satisfied: pyasn1<0.5.0,>=0.4.6 in c:\\users\\rasaa\\downloads\\archive (51)\\image\\lib\\site-packages (from pyasn1-modules>=0.2.1->google-auth<3,>=1.6.3->tensorboard<2.12,>=2.11->tensorflow-intel==2.11.0->tensorflow) (0.4.8)\n",
      "Requirement already satisfied: oauthlib>=3.0.0 in c:\\users\\rasaa\\downloads\\archive (51)\\image\\lib\\site-packages (from requests-oauthlib>=0.7.0->google-auth-oauthlib<0.5,>=0.4.1->tensorboard<2.12,>=2.11->tensorflow-intel==2.11.0->tensorflow) (3.2.2)\n",
      "Note: you may need to restart the kernel to use updated packages.\n"
     ]
    }
   ],
   "source": [
    "pip install tensorflow"
   ]
  },
  {
   "cell_type": "code",
   "execution_count": 2,
   "id": "75e09497-4b1a-477a-88be-55e378ffbb4e",
   "metadata": {},
   "outputs": [
    {
     "name": "stdout",
     "output_type": "stream",
     "text": [
      "Requirement already satisfied: keras in c:\\users\\rasaa\\downloads\\archive (51)\\image\\lib\\site-packages (2.11.0)\n",
      "Note: you may need to restart the kernel to use updated packages.\n"
     ]
    }
   ],
   "source": [
    "pip install keras"
   ]
  },
  {
   "cell_type": "code",
   "execution_count": 3,
   "id": "97f72a7e-b116-4761-94a7-24d8b789bf2f",
   "metadata": {},
   "outputs": [
    {
     "name": "stdout",
     "output_type": "stream",
     "text": [
      "Requirement already satisfied: pillow in c:\\users\\rasaa\\downloads\\archive (51)\\image\\lib\\site-packages (9.4.0)\n",
      "Note: you may need to restart the kernel to use updated packages.\n"
     ]
    }
   ],
   "source": [
    "pip install pillow"
   ]
  },
  {
   "cell_type": "code",
   "execution_count": 4,
   "id": "1b1bb4b1-4f8b-4ac6-bd6b-b50bea35cc98",
   "metadata": {},
   "outputs": [
    {
     "name": "stdout",
     "output_type": "stream",
     "text": [
      "Requirement already satisfied: scipy in c:\\users\\rasaa\\downloads\\archive (51)\\image\\lib\\site-packages (1.10.0)\n",
      "Requirement already satisfied: numpy<1.27.0,>=1.19.5 in c:\\users\\rasaa\\downloads\\archive (51)\\image\\lib\\site-packages (from scipy) (1.24.1)\n"
     ]
    }
   ],
   "source": [
    "!pip install scipy"
   ]
  },
  {
   "cell_type": "code",
   "execution_count": 5,
   "id": "6bf0a3e8-7367-42bb-a8e2-190868014a5b",
   "metadata": {},
   "outputs": [],
   "source": [
    "import tensorflow as tf\n",
    "\n",
    "from keras.preprocessing.image import ImageDataGenerator"
   ]
  },
  {
   "cell_type": "code",
   "execution_count": 6,
   "id": "58097b1b-69c3-4ba5-a519-366f7ac0a56e",
   "metadata": {},
   "outputs": [],
   "source": [
    "gpus=tf.config.experimental.list_physical_devices('GPU')\n",
    "for gpu in gpus:\n",
    "    tf.config.set_memory_growth(gpu,True)"
   ]
  },
  {
   "cell_type": "code",
   "execution_count": 7,
   "id": "2bc87f59-81ab-467d-934d-5f0ab680f323",
   "metadata": {},
   "outputs": [
    {
     "data": {
      "text/plain": [
       "<function tensorflow.python.framework.config.list_physical_devices(device_type=None)>"
      ]
     },
     "execution_count": 7,
     "metadata": {},
     "output_type": "execute_result"
    }
   ],
   "source": [
    "tf.config.list_physical_devices"
   ]
  },
  {
   "cell_type": "code",
   "execution_count": 8,
   "id": "1371dedb-5a11-4324-a19f-5871dd3a4ad6",
   "metadata": {},
   "outputs": [],
   "source": [
    "from PIL import Image"
   ]
  },
  {
   "cell_type": "code",
   "execution_count": 9,
   "id": "092af74f-e1e7-4f26-a9f2-ac1e4da14e2f",
   "metadata": {},
   "outputs": [
    {
     "name": "stdout",
     "output_type": "stream",
     "text": [
      "Found 8000 images belonging to 2 classes.\n"
     ]
    }
   ],
   "source": [
    "datagen=ImageDataGenerator(rescale=1./255,\n",
    "                           shear_range=0.2,\n",
    "                           zoom_range=0.2,\n",
    "                           horizontal_flip=True)\n",
    "training_data=datagen.flow_from_directory(\"dataset/training_set\",\n",
    "                                          target_size=(64,64),\n",
    "                                          batch_size=32,\n",
    "                                          class_mode='binary')\n",
    "                           \n",
    "                           "
   ]
  },
  {
   "cell_type": "code",
   "execution_count": 10,
   "id": "096b8f40-35dc-42ab-b99c-3f87ea63735f",
   "metadata": {},
   "outputs": [
    {
     "name": "stdout",
     "output_type": "stream",
     "text": [
      "Found 2000 images belonging to 2 classes.\n"
     ]
    }
   ],
   "source": [
    "test_datagen=ImageDataGenerator(rescale=1./255)\n",
    "test_data=test_datagen.flow_from_directory(\"dataset/test_set\",\n",
    "                                           target_size=(64,64),\n",
    "                                           batch_size=32,\n",
    "                                           class_mode=\"binary\")\n",
    "                            "
   ]
  },
  {
   "cell_type": "code",
   "execution_count": 11,
   "id": "a81ac8e6-aafc-4094-8bd9-c13ee477f0b9",
   "metadata": {},
   "outputs": [],
   "source": [
    "cnn=tf.keras.models.Sequential()"
   ]
  },
  {
   "cell_type": "code",
   "execution_count": 12,
   "id": "43a572d1-570b-4c47-815b-b3c572b0f9af",
   "metadata": {},
   "outputs": [],
   "source": [
    "cnn.add(tf.keras.layers.Conv2D(filters=32,kernel_size=3,activation='relu',input_shape=[64,64,3]))"
   ]
  },
  {
   "cell_type": "code",
   "execution_count": 13,
   "id": "20d6c4ba-fccc-45a5-90e6-50bba7c4af8d",
   "metadata": {},
   "outputs": [],
   "source": [
    "cnn.add(tf.keras.layers.MaxPool2D(pool_size=2,strides=2))"
   ]
  },
  {
   "cell_type": "code",
   "execution_count": 14,
   "id": "14a1b10a-b708-4b51-861f-6c8f4642f11e",
   "metadata": {},
   "outputs": [],
   "source": [
    "cnn.add(tf.keras.layers.Conv2D(filters=32,kernel_size=3,activation='relu',input_shape=[64,64,3]))"
   ]
  },
  {
   "cell_type": "code",
   "execution_count": 15,
   "id": "615af779-a4aa-4eca-a8d7-31278baabb68",
   "metadata": {},
   "outputs": [],
   "source": [
    "cnn.add(tf.keras.layers.MaxPool2D(pool_size=2,strides=2))"
   ]
  },
  {
   "cell_type": "code",
   "execution_count": 16,
   "id": "22c383af-6192-455a-acb8-2d23c161c8da",
   "metadata": {},
   "outputs": [],
   "source": [
    "cnn.add(tf.keras.layers.Flatten())"
   ]
  },
  {
   "cell_type": "code",
   "execution_count": 17,
   "id": "5a123042-87d9-4683-b1c0-4340c0257847",
   "metadata": {},
   "outputs": [],
   "source": [
    "cnn.add(tf.keras.layers.Dense(units=128,activation='relu'))"
   ]
  },
  {
   "cell_type": "code",
   "execution_count": 18,
   "id": "ae96b183-6b19-4fbe-9c77-095d7f9541d2",
   "metadata": {},
   "outputs": [],
   "source": [
    "cnn.add(tf.keras.layers.Dense(units=1,activation='sigmoid'))\n"
   ]
  },
  {
   "cell_type": "code",
   "execution_count": 19,
   "id": "2682e250-14a7-48bb-9339-5dd26017265f",
   "metadata": {},
   "outputs": [],
   "source": [
    "cnn.compile(optimizer='adam',loss='binary_crossentropy',metrics=['accuracy'])"
   ]
  },
  {
   "cell_type": "code",
   "execution_count": 20,
   "id": "9199de71-7e3d-47e3-9478-c94ccd7c7e2f",
   "metadata": {},
   "outputs": [
    {
     "name": "stdout",
     "output_type": "stream",
     "text": [
      "Epoch 1/25\n",
      "250/250 [==============================] - 63s 251ms/step - loss: 0.6880 - accuracy: 0.5536 - val_loss: 0.6583 - val_accuracy: 0.6355\n",
      "Epoch 2/25\n",
      "250/250 [==============================] - 33s 130ms/step - loss: 0.6373 - accuracy: 0.6421 - val_loss: 0.5871 - val_accuracy: 0.6975\n",
      "Epoch 3/25\n",
      "250/250 [==============================] - 31s 123ms/step - loss: 0.5813 - accuracy: 0.6951 - val_loss: 0.5440 - val_accuracy: 0.7310\n",
      "Epoch 4/25\n",
      "250/250 [==============================] - 33s 132ms/step - loss: 0.5425 - accuracy: 0.7180 - val_loss: 0.5105 - val_accuracy: 0.7535\n",
      "Epoch 5/25\n",
      "250/250 [==============================] - 33s 130ms/step - loss: 0.5161 - accuracy: 0.7437 - val_loss: 0.5188 - val_accuracy: 0.7505\n",
      "Epoch 6/25\n",
      "250/250 [==============================] - 31s 125ms/step - loss: 0.4946 - accuracy: 0.7616 - val_loss: 0.4970 - val_accuracy: 0.7520\n",
      "Epoch 7/25\n",
      "250/250 [==============================] - 34s 138ms/step - loss: 0.4792 - accuracy: 0.7680 - val_loss: 0.4805 - val_accuracy: 0.7790\n",
      "Epoch 8/25\n",
      "250/250 [==============================] - 31s 125ms/step - loss: 0.4673 - accuracy: 0.7797 - val_loss: 0.4664 - val_accuracy: 0.7890\n",
      "Epoch 9/25\n",
      "250/250 [==============================] - 41s 165ms/step - loss: 0.4514 - accuracy: 0.7875 - val_loss: 0.4641 - val_accuracy: 0.7855\n",
      "Epoch 10/25\n",
      "250/250 [==============================] - 43s 171ms/step - loss: 0.4376 - accuracy: 0.7941 - val_loss: 0.4860 - val_accuracy: 0.7910\n",
      "Epoch 11/25\n",
      "250/250 [==============================] - 39s 157ms/step - loss: 0.4296 - accuracy: 0.8021 - val_loss: 0.4823 - val_accuracy: 0.7825\n",
      "Epoch 12/25\n",
      "250/250 [==============================] - 36s 145ms/step - loss: 0.4106 - accuracy: 0.8089 - val_loss: 0.5213 - val_accuracy: 0.7595\n",
      "Epoch 13/25\n",
      "250/250 [==============================] - 34s 137ms/step - loss: 0.4063 - accuracy: 0.8090 - val_loss: 0.4440 - val_accuracy: 0.8060\n",
      "Epoch 14/25\n",
      "250/250 [==============================] - 34s 135ms/step - loss: 0.3933 - accuracy: 0.8202 - val_loss: 0.4541 - val_accuracy: 0.8050\n",
      "Epoch 15/25\n",
      "250/250 [==============================] - 33s 134ms/step - loss: 0.3733 - accuracy: 0.8335 - val_loss: 0.4720 - val_accuracy: 0.7870\n",
      "Epoch 16/25\n",
      "250/250 [==============================] - 34s 137ms/step - loss: 0.3804 - accuracy: 0.8245 - val_loss: 0.4418 - val_accuracy: 0.8130\n",
      "Epoch 17/25\n",
      "250/250 [==============================] - 33s 131ms/step - loss: 0.3623 - accuracy: 0.8335 - val_loss: 0.4561 - val_accuracy: 0.8060\n",
      "Epoch 18/25\n",
      "250/250 [==============================] - 33s 133ms/step - loss: 0.3488 - accuracy: 0.8434 - val_loss: 0.4541 - val_accuracy: 0.8035\n",
      "Epoch 19/25\n",
      "250/250 [==============================] - 32s 128ms/step - loss: 0.3375 - accuracy: 0.8489 - val_loss: 0.4659 - val_accuracy: 0.8050\n",
      "Epoch 20/25\n",
      "250/250 [==============================] - 32s 127ms/step - loss: 0.3319 - accuracy: 0.8529 - val_loss: 0.4563 - val_accuracy: 0.8105\n",
      "Epoch 21/25\n",
      "250/250 [==============================] - 34s 135ms/step - loss: 0.3188 - accuracy: 0.8589 - val_loss: 0.4669 - val_accuracy: 0.8015\n",
      "Epoch 22/25\n",
      "250/250 [==============================] - 35s 140ms/step - loss: 0.3028 - accuracy: 0.8696 - val_loss: 0.5338 - val_accuracy: 0.7870\n",
      "Epoch 23/25\n",
      "250/250 [==============================] - 34s 137ms/step - loss: 0.2971 - accuracy: 0.8702 - val_loss: 0.4513 - val_accuracy: 0.8160\n",
      "Epoch 24/25\n",
      "250/250 [==============================] - 33s 132ms/step - loss: 0.2911 - accuracy: 0.8760 - val_loss: 0.4867 - val_accuracy: 0.8105\n",
      "Epoch 25/25\n",
      "250/250 [==============================] - 32s 127ms/step - loss: 0.2823 - accuracy: 0.8799 - val_loss: 0.4611 - val_accuracy: 0.8120\n"
     ]
    },
    {
     "data": {
      "text/plain": [
       "<keras.callbacks.History at 0x1a46bd68490>"
      ]
     },
     "execution_count": 20,
     "metadata": {},
     "output_type": "execute_result"
    }
   ],
   "source": [
    "cnn.fit(x=training_data,validation_data=test_data,epochs=25)"
   ]
  },
  {
   "cell_type": "code",
   "execution_count": 23,
   "id": "b92e240f-1bc0-41cf-a689-ed06a8cbb3c9",
   "metadata": {},
   "outputs": [],
   "source": [
    "import numpy as np\n",
    "from tensorflow.keras.utils import load_img,img_to_array"
   ]
  },
  {
   "cell_type": "code",
   "execution_count": 25,
   "id": "019a8f1a-2376-4635-993a-5e1b5bbc6c49",
   "metadata": {},
   "outputs": [
    {
     "name": "stdout",
     "output_type": "stream",
     "text": [
      "1/1 [==============================] - 0s 158ms/step\n"
     ]
    },
    {
     "data": {
      "text/plain": [
       "{'cats': 0, 'dogs': 1}"
      ]
     },
     "execution_count": 25,
     "metadata": {},
     "output_type": "execute_result"
    }
   ],
   "source": [
    "test_image=load_img('dataset/single_prediction/cat_or_dog_1.jpg',\n",
    "                    target_size=(64,64))\n",
    "test_image=img_to_array(test_image)\n",
    "test_image=np.expand_dims(test_image,axis=0)\n",
    "result=cnn.predict(test_image)\n",
    "training_data.class_indices"
   ]
  },
  {
   "cell_type": "code",
   "execution_count": 26,
   "id": "87458130-1082-451d-abaf-f07252e047ad",
   "metadata": {},
   "outputs": [],
   "source": [
    "if result[0][0]==1:\n",
    "    prediction=\"Dog\"\n",
    "else:\n",
    "    prediction=\"Cat\"\n",
    "    "
   ]
  },
  {
   "cell_type": "code",
   "execution_count": 27,
   "id": "5b35a7fc-4bb5-4109-9179-f6da03b4f4c2",
   "metadata": {},
   "outputs": [
    {
     "name": "stdout",
     "output_type": "stream",
     "text": [
      "Dog\n"
     ]
    }
   ],
   "source": [
    "print(prediction)"
   ]
  },
  {
   "cell_type": "code",
   "execution_count": 28,
   "id": "2fc74b4b-6e36-4085-97c2-4c90b42abbf5",
   "metadata": {},
   "outputs": [
    {
     "name": "stdout",
     "output_type": "stream",
     "text": [
      "1/1 [==============================] - 0s 18ms/step\n"
     ]
    }
   ],
   "source": [
    "test_image2=load_img('dataset/single_prediction/cat_or_dog_2.jpg',target_size=(64,64))\n",
    "test_image2=img_to_array(test_image2)\n",
    "test_image2=np.expand_dims(test_image2,axis=0)\n",
    "result2=cnn.predict(test_image2)\n",
    "training_data.class_indices\n",
    "if result2[0][0]==1:\n",
    "    prediction2=\"Dog\"\n",
    "else:\n",
    "    prediction2=\"Cat\"\n",
    "    "
   ]
  },
  {
   "cell_type": "code",
   "execution_count": 29,
   "id": "ce8e254a-b3ed-4555-953f-aaa180d4aa28",
   "metadata": {},
   "outputs": [
    {
     "name": "stdout",
     "output_type": "stream",
     "text": [
      "Cat\n"
     ]
    }
   ],
   "source": [
    "print(prediction2)"
   ]
  }
 ],
 "metadata": {
  "kernelspec": {
   "display_name": "Image",
   "language": "python",
   "name": "image"
  },
  "language_info": {
   "codemirror_mode": {
    "name": "ipython",
    "version": 3
   },
   "file_extension": ".py",
   "mimetype": "text/x-python",
   "name": "python",
   "nbconvert_exporter": "python",
   "pygments_lexer": "ipython3",
   "version": "3.9.13"
  }
 },
 "nbformat": 4,
 "nbformat_minor": 5
}
